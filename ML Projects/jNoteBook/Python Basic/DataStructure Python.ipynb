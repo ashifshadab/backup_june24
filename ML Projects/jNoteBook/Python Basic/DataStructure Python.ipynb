{
 "cells": [
  {
   "cell_type": "markdown",
   "id": "d0868fc0-4a2e-4826-a1ec-39fb4bbdeda3",
   "metadata": {},
   "source": [
    "### Lists\n",
    "\n",
    "Python Lists are just like the arrays, declared in other languages which is an ordered collection of data. \n",
    "It is very flexible as the items in a list do not need to be of the same type. \n",
    "\n",
    "Here are the key characteristics of lists:\n",
    "\n",
    "1. Lists in Python maintain the order of elements as they are inserted. The order in which elements are added is the same order in which they are stored.\n",
    "   \n",
    "2. Lists are mutable, meaning you can modify their elements after the list is created. You can change, add, or remove elements from a list.\n",
    "\n",
    "3. Lists can contain elements of different data types.\n",
    "\n",
    "4. Lists in Python are dynamic, meaning they can grow or shrink in size as needed.\n",
    "\n",
    "5. Lists support indexing, allowing you to access individual elements using their position (index) in the list.\n",
    "\n",
    "6. Lists are iterable, meaning you can loop through each element using a for loop.\n",
    "\n",
    "#### Common List Methods:\n",
    "a. len():\n",
    "Returns the length (number of elements) of a list.\n",
    "\n",
    "b. sort():\n",
    "Sorts the elements of a list in ascending order. If you want to sort a list in descending order, you can use the reverse parameter of the sort() method. Setting reverse=True will sort the list in descending order.\n",
    "\n",
    "c. reverse():\n",
    "Reverses the elements of a list.\n",
    "\n",
    "### Multidimensional List\n",
    "A multidimensional list is basically a list of lists in python, each inner list represents the row or column inside the list. There can be more than one dimensions to a list.\n",
    "\n",
    "#### Accessing elements of list\n",
    "Let's take a example of a list L1= [ [1, 2, 3, 5], [4, 6, 7, 9], [8, 10, 11, 13] ]\n",
    "\n",
    "Accessing elements in a multidimensional list involves using double indexing. The first index selects the row, and the second index selects the element within that row (or column)."
   ]
  },
  {
   "cell_type": "code",
   "execution_count": 1,
   "id": "96879faf-7730-4472-b1cd-7bd371c2397d",
   "metadata": {},
   "outputs": [
    {
     "name": "stdout",
     "output_type": "stream",
     "text": [
      "[21, 'Rose', 'CSE', 30, 40, 50]\n"
     ]
    }
   ],
   "source": [
    "# creating a student_info list to store the information about the student roll no,name, course and marks scored\n",
    "Student_info = [21, 'Rose', \"CSE\", 30, 40, 50]\n",
    "print(Student_info)\n"
   ]
  },
  {
   "cell_type": "code",
   "execution_count": 3,
   "id": "e30ec5db-7b7c-4c83-8706-25ed50eea4c9",
   "metadata": {},
   "outputs": [
    {
     "name": "stdout",
     "output_type": "stream",
     "text": [
      "Student_roll : 21 , Student_name : Rose, Student_totalMarks : 120 "
     ]
    }
   ],
   "source": [
    "# Accessing elements\n",
    "Student_info = [21, 'Rose', \"CSE\", 30, 40, 50, 120]\n",
    "print(\"Student_roll :\", Student_info[0], end=' , ')\n",
    "print(\"Student_name :\", Student_info[1], end=', ')\n",
    "print(\"Student_totalMarks :\", Student_info[-1], end=' ')\n"
   ]
  },
  {
   "cell_type": "code",
   "execution_count": 5,
   "id": "ea37de85-0f93-45ee-82ba-a2d8e9aa2212",
   "metadata": {},
   "outputs": [
    {
     "name": "stdout",
     "output_type": "stream",
     "text": [
      "[21, 'Rose', 'ME', 20, 30, 50, 120]\n"
     ]
    }
   ],
   "source": [
    "# Changing elements\n",
    "Student_info = [21, \"Rose\", \"CSE\", 20, 30, 50, 120]\n",
    "Student_info[2] = \"ME\"\n",
    "print(Student_info)\n"
   ]
  },
  {
   "cell_type": "code",
   "execution_count": 7,
   "id": "90d50375-92bc-49c0-b989-b30989f72b17",
   "metadata": {},
   "outputs": [
    {
     "name": "stdout",
     "output_type": "stream",
     "text": [
      "[21, 'Rose', 'CSE', 20, 30, 50, 120, 50]\n"
     ]
    }
   ],
   "source": [
    "# Adding elements\n",
    "Student_info = [21, \"Rose\", \"CSE\", 20, 30, 50, 120]\n",
    "Student_info.append(50)\n",
    "print(Student_info)\n"
   ]
  },
  {
   "cell_type": "code",
   "execution_count": 9,
   "id": "2c6ca47d-c54b-4881-980c-f95d4241c15a",
   "metadata": {},
   "outputs": [
    {
     "name": "stdout",
     "output_type": "stream",
     "text": [
      "[21, 'Rose', 'CSE', 20, 30, 120]\n"
     ]
    }
   ],
   "source": [
    "# Removing elements\n",
    "Student_info = [21, \"Rose\", \"CSE\", 20, 30, 50, 120]\n",
    "Student_info.remove(50)\n",
    "print(Student_info)\n"
   ]
  },
  {
   "cell_type": "code",
   "execution_count": 11,
   "id": "129a36d3-8a86-4d8b-ae9e-48ab6e8168e9",
   "metadata": {},
   "outputs": [
    {
     "name": "stdout",
     "output_type": "stream",
     "text": [
      "[21, 'Rose', 'CSE', 20, 30, 50, 120, 22, 'John', 'ME', 40, 40, 50, 130]\n"
     ]
    }
   ],
   "source": [
    "# Concatenation:\n",
    "Student_info = [21, \"Rose\", \"CSE\", 20, 30, 50, 120]\n",
    "Student2_info = [22, \"John\", \"ME\", 40, 40, 50, 130]\n",
    "print(Student_info + Student2_info)\n"
   ]
  },
  {
   "cell_type": "code",
   "execution_count": 13,
   "id": "0439e710-4690-4fd0-93b3-3fe2cea7ff1d",
   "metadata": {},
   "outputs": [
    {
     "name": "stdout",
     "output_type": "stream",
     "text": [
      "[21, 'Rose', 'CSE', 20, 30, 50, 120, 21, 'Rose', 'CSE', 20, 30, 50, 120]\n"
     ]
    }
   ],
   "source": [
    "# Repetition\n",
    "# Lists can be repeated using the * operator.\n",
    "Student_info = [21, \"Rose\", \"CSE\", 20, 30, 50, 120]\n",
    "print(Student_info * 2)\n"
   ]
  },
  {
   "cell_type": "code",
   "execution_count": 15,
   "id": "6230e3da-f548-4164-a737-f9f8de7a20cc",
   "metadata": {},
   "outputs": [
    {
     "name": "stdout",
     "output_type": "stream",
     "text": [
      "5\n",
      "[2.0, 3.6, 4.5, 12.0, 24.1]\n",
      "[24.1, 12.0, 4.5, 3.6, 2.0]\n"
     ]
    }
   ],
   "source": [
    "List = [2.0, 24.1, 3.6, 12.0, 4.5]\n",
    "print(len(List))\n",
    "List.sort()\n",
    "print(List)\n",
    "List.reverse()\n",
    "print(List)\n"
   ]
  },
  {
   "cell_type": "code",
   "execution_count": 17,
   "id": "1718bf8e-476e-4c3f-ab99-842ebb41b038",
   "metadata": {},
   "outputs": [
    {
     "name": "stdin",
     "output_type": "stream",
     "text": [
      "Enter a sentence:  I Love You, But You Do not Love me, I i Do \n"
     ]
    },
    {
     "name": "stdout",
     "output_type": "stream",
     "text": [
      "Word occurrences in the sentence:\n",
      "I: 2\n",
      "Love: 2\n",
      "You,: 1\n",
      "But: 1\n",
      "You: 1\n",
      "Do: 2\n",
      "not: 1\n",
      "me,: 1\n",
      "i: 1\n"
     ]
    }
   ],
   "source": [
    "# Count Occurrences of each unique word in a Sentence\n",
    "def count_word_occurrences(sentence):\n",
    "    word_list = sentence.split()\n",
    "    unique_words = []\n",
    "    word_counts = []\n",
    "\n",
    "    for word in word_list:\n",
    "        # Check if the word is already in the unique_words list\n",
    "        if word in unique_words:\n",
    "            index = unique_words.index(word)\n",
    "            word_counts[index] += 1\n",
    "        else:\n",
    "            # Add the word to the unique_words list and initialize its count to 1\n",
    "            unique_words.append(word)\n",
    "            word_counts.append(1)\n",
    "\n",
    "    return unique_words, word_counts\n",
    "\n",
    "# User input\n",
    "user_sentence = input(\"Enter a sentence: \")\n",
    "\n",
    "unique_words, word_counts = count_word_occurrences(user_sentence)\n",
    "print(\"Word occurrences in the sentence:\")\n",
    "for word, count in zip(unique_words, word_counts):\n",
    "    print(f\"{word}: {count}\")\n"
   ]
  },
  {
   "cell_type": "code",
   "execution_count": 19,
   "id": "27e81dbb-a285-4291-a88d-d12316bdbfe9",
   "metadata": {},
   "outputs": [
    {
     "name": "stdout",
     "output_type": "stream",
     "text": [
      "[1, 2, 3, 5] -- [4, 6, 7, 9] -- [8, 10, 11, 13] -- \n",
      "\n",
      "1 , 2 , 3 , 5 , 4 , 6 , 7 , 9 , 8 , 10 , 11 , 13 , "
     ]
    }
   ],
   "source": [
    "List1= [ [1, 2, 3, 5], [4, 6, 7, 9], [8, 10, 11, 13] ]\n",
    "#Accesing the rows of the list\n",
    "for i in List1:\n",
    "  print(i, end = ' -- ')\n",
    "  \n",
    "#Accessing each element of a 2D-list \n",
    "print(\"\\n\")\n",
    "for i in range(len(List1)):\n",
    "  for j in range(len(List1[i])):\n",
    "                 print(List1[i][j], end=\" , \") \n",
    "                 \n"
   ]
  },
  {
   "cell_type": "code",
   "execution_count": 21,
   "id": "42ac3e73-be13-4367-b98f-bc141556e533",
   "metadata": {},
   "outputs": [
    {
     "name": "stdout",
     "output_type": "stream",
     "text": [
      "[[2, 4, 6, 8, 10], [3, 6, 9, 12, 15], [4, 8, 12, 16, 20], [5, 10, 15, 20, 25]]\n"
     ]
    }
   ],
   "source": [
    "List1 = [[2, 4, 6, 8, 10], [3, 6, 9, 12, 15], [4, 8, 12, 16, 20]] \n",
    "List1.append([5, 10, 15, 20, 25]) \n",
    "print(List1) \n"
   ]
  },
  {
   "cell_type": "code",
   "execution_count": 23,
   "id": "380f9376-a57b-4707-8f65-bda4717ea0f7",
   "metadata": {},
   "outputs": [
    {
     "name": "stdout",
     "output_type": "stream",
     "text": [
      "[[2, 4, 6, 8, 10, 12, 14, 16, 18], [3, 6, 9, 12, 15], [4, 8, 12, 16, 20]]\n"
     ]
    }
   ],
   "source": [
    "List = [[2, 4, 6, 8, 10], [3, 6, 9, 12, 15], [4, 8, 12, 16, 20]] \n",
    "List[0].extend([12, 14, 16, 18]) \n",
    "print(List)\n"
   ]
  },
  {
   "cell_type": "code",
   "execution_count": 25,
   "id": "96dd77ef-4b9a-41b3-8a79-936e07f28d7d",
   "metadata": {},
   "outputs": [
    {
     "name": "stdout",
     "output_type": "stream",
     "text": [
      "[[10, 8, 6, 4, 2], [3, 6, 9, 12, 15], [4, 8, 12, 16, 20]]\n"
     ]
    }
   ],
   "source": [
    "List = [[2, 4, 6, 8, 10], [3, 6, 9, 12, 15], [4, 8, 12, 16, 20]] \n",
    "List[0].reverse()\n",
    "print(List)\n"
   ]
  },
  {
   "cell_type": "code",
   "execution_count": 27,
   "id": "333e38ab-6888-4831-8ab8-6faaa9e22081",
   "metadata": {},
   "outputs": [
    {
     "name": "stdout",
     "output_type": "stream",
     "text": [
      "[2, 4, 8, 4, 9, 6, 5, 6, 8, 9]\n"
     ]
    }
   ],
   "source": [
    "matrix = [\n",
    "    [2, 4, 8],\n",
    "    [4, 9, 6, 5],\n",
    "    [6, 8, 9]\n",
    "]\n",
    "flattened_list = [element for row in matrix for element in row]\n",
    "print(flattened_list)\n"
   ]
  },
  {
   "cell_type": "code",
   "execution_count": 29,
   "id": "547e710a-3e9e-4768-8a42-3921c92de249",
   "metadata": {},
   "outputs": [
    {
     "name": "stdout",
     "output_type": "stream",
     "text": [
      "[(1, 1)]\n"
     ]
    }
   ],
   "source": [
    "matrix = [\n",
    "    [1, 8 , 3],\n",
    "    [7, 5, 6],\n",
    "]\n",
    "element = 5\n",
    "position = [(i, row.index(element)) for i, row in enumerate(matrix) if element in row]\n",
    "print(position)\n"
   ]
  },
  {
   "cell_type": "code",
   "execution_count": null,
   "id": "4b585a23-ae7e-4c4a-a833-3f1cf4c829cc",
   "metadata": {},
   "outputs": [],
   "source": []
  }
 ],
 "metadata": {
  "kernelspec": {
   "display_name": "Python 3 (ipykernel)",
   "language": "python",
   "name": "python3"
  },
  "language_info": {
   "codemirror_mode": {
    "name": "ipython",
    "version": 3
   },
   "file_extension": ".py",
   "mimetype": "text/x-python",
   "name": "python",
   "nbconvert_exporter": "python",
   "pygments_lexer": "ipython3",
   "version": "3.11.7"
  }
 },
 "nbformat": 4,
 "nbformat_minor": 5
}
