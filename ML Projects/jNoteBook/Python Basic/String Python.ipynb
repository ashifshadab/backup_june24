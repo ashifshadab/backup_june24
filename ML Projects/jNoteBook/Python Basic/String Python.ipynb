{
 "cells": [
  {
   "cell_type": "markdown",
   "id": "74aa8019-cb74-4cbc-a584-4cedbc801b89",
   "metadata": {},
   "source": [
    "# String\n",
    "1. A String is a data structure in Python that represents a sequence of characters. \n",
    "2. It is an immutable data type, meaning that once you have created a string, you cannot change it. "
   ]
  },
  {
   "cell_type": "markdown",
   "id": "30b03d71-e744-40c5-a3ee-1321e4194bf1",
   "metadata": {},
   "source": [
    "# String Concatenation\n",
    "String concatenation involves combining multiple strings into a single string using the + operator."
   ]
  },
  {
   "cell_type": "code",
   "execution_count": 1,
   "id": "d555ba49-d143-46b1-bec6-a28110686f77",
   "metadata": {},
   "outputs": [
    {
     "name": "stdout",
     "output_type": "stream",
     "text": [
      "Data Science Python\n"
     ]
    }
   ],
   "source": [
    "string1 = \"Python\"\n",
    "string2 = \"Data Science\"\n",
    "concatenated_string = string2 + \" \" + string1\n",
    "print(concatenated_string)"
   ]
  },
  {
   "cell_type": "markdown",
   "id": "ccfed1f2-c39a-4460-b599-cc61571dfe89",
   "metadata": {},
   "source": [
    "# String Replication\n",
    "String replication is achieved by using '*' operator to create a repeated copies of a string."
   ]
  },
  {
   "cell_type": "code",
   "execution_count": 5,
   "id": "1a3ef345-54d2-4bcb-85fe-6d4f19645b1f",
   "metadata": {},
   "outputs": [
    {
     "name": "stdout",
     "output_type": "stream",
     "text": [
      "original_string:-  Python\n",
      "replicated_string:-  PythonPythonPython\n"
     ]
    }
   ],
   "source": [
    "original_string = \"Python\"\n",
    "print(\"original_string:- \", original_string)\n",
    "replicated_string = original_string * 3\n",
    "print(\"replicated_string:- \",replicated_string)"
   ]
  },
  {
   "cell_type": "markdown",
   "id": "0f3894ba-9f3a-4333-beba-45565aaee866",
   "metadata": {},
   "source": [
    "# String Length\n",
    "The len() function returns the length (number of characters) of a string"
   ]
  },
  {
   "cell_type": "code",
   "execution_count": 7,
   "id": "dde0f6fe-42c5-4d00-bcda-3c60b6373810",
   "metadata": {},
   "outputs": [
    {
     "name": "stdout",
     "output_type": "stream",
     "text": [
      "19\n"
     ]
    }
   ],
   "source": [
    "String = \"Python is powerful!\"\n",
    "length = len(String)\n",
    "print(length)"
   ]
  },
  {
   "cell_type": "markdown",
   "id": "6fa47315-c85a-4cc7-9bbf-d833e182c093",
   "metadata": {},
   "source": [
    "# String Slicing\n",
    "In Python, the String Slicing method is used to access a range of characters in the String. \n",
    "Slicing in a String is done by using a Slicing operator, i.e., a colon (:).\n",
    "\n",
    "Note - One thing to keep in mind while using this method is that the string returned after slicing includes the character at the start index but not the character at the last index."
   ]
  },
  {
   "cell_type": "code",
   "execution_count": 9,
   "id": "f5d2f8af-394c-4c35-9b9c-1c924b6fb79e",
   "metadata": {},
   "outputs": [
    {
     "name": "stdout",
     "output_type": "stream",
     "text": [
      "Slicing characters from 5-12: \n",
      "ForGeek\n",
      "Slicing characters between 3rd and 3rd last character: \n",
      "ksForGe\n"
     ]
    }
   ],
   "source": [
    "# Creating a String \n",
    "String1 = \"GeeksForGeeks\"\n",
    "\n",
    "# Printing 3rd to 12th character \n",
    "print(\"Slicing characters from 5-12: \") \n",
    "print(String1[5:12]) \n",
    "\n",
    "# Printing between 3rd and 2nd last character \n",
    "print(\"Slicing characters between \" +\n",
    "\t\"3rd and 3rd last character: \") \n",
    "print(String1[3:-3]) \n"
   ]
  },
  {
   "cell_type": "markdown",
   "id": "998df4de-fe9e-4515-a1e0-4cb46a6f032f",
   "metadata": {},
   "source": [
    "# String Case Conversion\n",
    "Strings can be converted to uppercase or lowercase using upper() and lower() methods."
   ]
  },
  {
   "cell_type": "code",
   "execution_count": 11,
   "id": "06ec8be5-b5cb-4ee2-ad29-039a1a5770b6",
   "metadata": {},
   "outputs": [
    {
     "name": "stdout",
     "output_type": "stream",
     "text": [
      "HELLO, PYTHON!\n",
      "hello, python!\n"
     ]
    }
   ],
   "source": [
    "string = \"Hello, Python!\"\n",
    "uppercase_string = string.upper()\n",
    "lowercase_string = string.lower()\n",
    "print(uppercase_string)  \n",
    "print(lowercase_string)"
   ]
  },
  {
   "cell_type": "markdown",
   "id": "0a40067a-6a0f-45c5-b27f-2379364a2296",
   "metadata": {},
   "source": [
    "# String Stripping\n",
    "Stripping removes leading and trailing whitespace from a string using strip(), lstrip(), or rstrip()."
   ]
  },
  {
   "cell_type": "code",
   "execution_count": 13,
   "id": "469cd98a-ee9f-4c12-8a73-1608d2f6faef",
   "metadata": {},
   "outputs": [
    {
     "name": "stdout",
     "output_type": "stream",
     "text": [
      "Python\n",
      "Python   \n",
      "   Python\n"
     ]
    }
   ],
   "source": [
    "whitespace_string = \"   Python   \"\n",
    "stripped_string = whitespace_string.strip()\n",
    "print(stripped_string)\n",
    "l_stripped_string = whitespace_string.lstrip()\n",
    "print(l_stripped_string)\n",
    "r_stripped_string = whitespace_string.rstrip()\n",
    "print(r_stripped_string)"
   ]
  },
  {
   "cell_type": "markdown",
   "id": "cd0d74c5-9e71-4e3f-9669-1d21548ceebd",
   "metadata": {},
   "source": [
    "# String Replacing\n",
    "The replace() method replaces occurrences of a substring with another substring."
   ]
  },
  {
   "cell_type": "code",
   "execution_count": 15,
   "id": "92d2cf75-b563-42ff-b3ac-228ca0da1d5d",
   "metadata": {},
   "outputs": [
    {
     "name": "stdout",
     "output_type": "stream",
     "text": [
      "I am experienced in Python\n"
     ]
    }
   ],
   "source": [
    "string = \"I am beginner in Python\"\n",
    "new_string = string.replace(\"beginner\", \"experienced\")\n",
    "print(new_string)"
   ]
  },
  {
   "cell_type": "markdown",
   "id": "a7546520-de42-4ad3-9953-2f9427b5a08a",
   "metadata": {},
   "source": [
    "# String Count\n",
    "The count() method counts the number of occurrences of a substring in a string."
   ]
  },
  {
   "cell_type": "code",
   "execution_count": 25,
   "id": "6129ba15-64e1-4623-8d5b-c6656400640c",
   "metadata": {},
   "outputs": [
    {
     "name": "stdout",
     "output_type": "stream",
     "text": [
      "3\n"
     ]
    }
   ],
   "source": [
    "string = \"python program run on python IDLE, in pythonic way.\"\n",
    "count = string.count(\"python\")\n",
    "print(count)"
   ]
  },
  {
   "cell_type": "markdown",
   "id": "a468ef8c-a3af-481b-8bf8-96a6103739fa",
   "metadata": {},
   "source": [
    "# String Find\n",
    "The find() method returns the index of the first occurrence of a substring. If not found, it returns -1."
   ]
  },
  {
   "cell_type": "code",
   "execution_count": 27,
   "id": "3853cf0b-d143-4960-9c51-d6341cddd24e",
   "metadata": {},
   "outputs": [
    {
     "name": "stdout",
     "output_type": "stream",
     "text": [
      "0\n",
      "-1\n"
     ]
    }
   ],
   "source": [
    "string = \"Python is powerful and Pythonic.\"\n",
    "index = string.find(\"Python\")\n",
    "print(index) \n",
    "index = string.find(\"python\")\n",
    "print(index)"
   ]
  },
  {
   "cell_type": "markdown",
   "id": "db2bc51e-8f58-4dee-b361-0e11cf61fe4e",
   "metadata": {},
   "source": [
    "# String Formatting\n",
    "Strings in Python can be formatted with the use of format() method which is a very versatile and powerful tool for formatting Strings. Format method in String contains curly braces {} as placeholders which can hold arguments according to position or keyword to specify the order."
   ]
  },
  {
   "cell_type": "code",
   "execution_count": 29,
   "id": "87832590-2c2d-4afc-bad7-43ece47840ad",
   "metadata": {},
   "outputs": [
    {
     "name": "stdout",
     "output_type": "stream",
     "text": [
      "Print String in default order: \n",
      "Begineer in Python\n",
      "\n",
      "Print String in Positional order: \n",
      "in Begineer Python\n",
      "\n",
      "Print String in order of Keywords: \n",
      "Python in Begineer\n"
     ]
    }
   ],
   "source": [
    "# Default order \n",
    "String1 = \"{} {} {}\".format('Begineer', 'in', 'Python') \n",
    "print(\"Print String in default order: \") \n",
    "print(String1) \n",
    "\n",
    "# Positional Formatting \n",
    "String1 = \"{1} {0} {2}\".format('Begineer', 'in', 'Python') \n",
    "print(\"\\nPrint String in Positional order: \") \n",
    "print(String1) \n",
    "\n",
    "# Keyword Formatting \n",
    "String1 = \"{l} {f} {g}\".format(g='Begineer', f='in', l='Python') \n",
    "print(\"\\nPrint String in order of Keywords: \") \n",
    "print(String1) "
   ]
  },
  {
   "cell_type": "markdown",
   "id": "e1587ba4-f6be-40df-9b2b-78636149f701",
   "metadata": {},
   "source": [
    "# Problem Statement - Analyzing User-Generated Text Data for Keyword Frequency"
   ]
  },
  {
   "cell_type": "code",
   "execution_count": 33,
   "id": "486a196a-0f25-4693-8891-5bcd578acce9",
   "metadata": {},
   "outputs": [
    {
     "name": "stdout",
     "output_type": "stream",
     "text": [
      "The keyword \"text\" appears 2 times.\n",
      "The keyword \"data\" appears 2 times.\n",
      "The keyword \"is\" appears 1 times.\n"
     ]
    }
   ],
   "source": [
    "from collections import Counter\n",
    "import re\n",
    "\n",
    "def analyze_text_data(text_data):\n",
    "    combined_text = ' '.join(text_data)\n",
    "\n",
    "    # Convert to lowercase to make the analysis case-insensitive\n",
    "    combined_text = combined_text.lower()\n",
    "\n",
    "    words = re.findall(r'\\b\\w+\\b', combined_text)\n",
    "\n",
    "    keywords = ['text', 'data', 'is']\n",
    "\n",
    "    # Count the frequency of each keyword in the text\n",
    "    keyword_counts = Counter(words)\n",
    "\n",
    "    # Display the frequency of each keyword\n",
    "    for keyword in keywords:\n",
    "        print(f'The keyword \"{keyword}\" appears {keyword_counts[keyword]} times.')\n",
    "\n",
    "# Example usage:\n",
    "text_data = [\n",
    "    \"User-generated text data for keyword frequency analysis.\",\n",
    "    \"Analyzing text data helps to understand user preferences.\",\n",
    "    \"This is an example of analyzing keyword frequency in Python.\"\n",
    "]\n",
    "\n",
    "analyze_text_data(text_data)\n"
   ]
  },
  {
   "cell_type": "code",
   "execution_count": null,
   "id": "4e4c7962-f9a6-411f-b428-9f9d6b189b5d",
   "metadata": {},
   "outputs": [],
   "source": []
  }
 ],
 "metadata": {
  "kernelspec": {
   "display_name": "Python 3 (ipykernel)",
   "language": "python",
   "name": "python3"
  },
  "language_info": {
   "codemirror_mode": {
    "name": "ipython",
    "version": 3
   },
   "file_extension": ".py",
   "mimetype": "text/x-python",
   "name": "python",
   "nbconvert_exporter": "python",
   "pygments_lexer": "ipython3",
   "version": "3.11.7"
  }
 },
 "nbformat": 4,
 "nbformat_minor": 5
}
