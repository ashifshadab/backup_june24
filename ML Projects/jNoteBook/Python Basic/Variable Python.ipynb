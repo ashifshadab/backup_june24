{
 "cells": [
  {
   "cell_type": "markdown",
   "id": "0b69058a-0438-4661-b794-6f8b912f2d63",
   "metadata": {},
   "source": [
    "# Variable\n",
    "Python is not “statically typed”. \n",
    "We do not need to declare variables before using them or declare their type. \n",
    "A variable is created the moment we first assign a value to it. \n",
    "A Python variable is a name given to a memory location.\n",
    "\n",
    "## Assigning values to python variable\n",
    "There are different ways in which we can assign values to a python variable.\n",
    "\n",
    "1. Single Assignment\n",
    "2. Multiple Assignment\n",
    "3. Chained Assignment\n",
    "4. Augmented Assignment\n",
    "\n",
    "## Variables naming conventions\n",
    "\n",
    "There are some rules to name a variable in python:\n",
    "\n",
    "1. A Python variable name must start with a letter or the underscore character.\n",
    "2. A Python variable name cannot start with a number.\n",
    "3. A Python variable name can only contain alpha-numeric characters and underscores (A-z, 0-9, and _ ).\n",
    "4. Variable in Python names are case-sensitive (name, Name, and NAME are three different variables).\n",
    "5. The reserved words(keywords) in Python cannot be used to name the variable in Python.\n",
    "\n",
    "## Arithmetic operations with assignments\n",
    "Python supports arithmetic operations that can be combined with assignment to update the value of a variable in a concise manner."
   ]
  },
  {
   "cell_type": "code",
   "execution_count": 5,
   "id": "eb622880-cac8-4972-8b7a-8af07cec0bea",
   "metadata": {},
   "outputs": [
    {
     "name": "stdout",
     "output_type": "stream",
     "text": [
      "a= 5\n",
      "b= 10\n",
      "c= 15\n",
      "d= 20\n",
      "e= 20\n",
      "f= 20\n",
      "g= 10\n"
     ]
    }
   ],
   "source": [
    "# Single assignment\n",
    "a = 5\n",
    "\n",
    "# Multiple assignment\n",
    "b, c = 10, 15\n",
    "\n",
    "# Chained assignment\n",
    "d = e = f = 20\n",
    "\n",
    "# Augmented assignment\n",
    "g = 8\n",
    "g += 2  # Equivalent to g = g + 2\n",
    "\n",
    "print(\"a=\",a)\n",
    "print(\"b=\",b)\n",
    "print(\"c=\",c)\n",
    "print(\"d=\",d)\n",
    "print(\"e=\",e)\n",
    "print(\"f=\",f)\n",
    "print(\"g=\",g)"
   ]
  },
  {
   "cell_type": "code",
   "execution_count": 11,
   "id": "219064bf-f5cc-4f49-8310-30d467907cfb",
   "metadata": {},
   "outputs": [
    {
     "name": "stdout",
     "output_type": "stream",
     "text": [
      "120 3.0 345.89 string variable 45 420\n"
     ]
    }
   ],
   "source": [
    "#some valid variables \n",
    "variable = 120\n",
    "var_iab_le = 3.0\n",
    "_variable4 = 345.89\n",
    "_var_ = \"string variable\"\n",
    "Variable = 45\n",
    "_Var = 420\n",
    "print(variable, var_iab_le, _variable4, _var_ ,Variable, _Var)"
   ]
  },
  {
   "cell_type": "code",
   "execution_count": 13,
   "id": "7cbcd1ee-59e4-495c-921d-be45049cea4e",
   "metadata": {},
   "outputs": [
    {
     "name": "stdout",
     "output_type": "stream",
     "text": [
      "15\n",
      "10\n",
      "20\n",
      "5.0\n"
     ]
    }
   ],
   "source": [
    "x = 10\n",
    "y = 5\n",
    "x += y  #Equivalent to x = x + y\n",
    "print(x)\n",
    "\n",
    "x -= y  # Equivalent to x = x - y\n",
    "print(x)\n",
    "\n",
    "x *= 2  # Equivalent to x = x * 2\n",
    "print(x) \n",
    "\n",
    "x /= 4  # Equivalent to x = x / 4\n",
    "print(x) \n"
   ]
  },
  {
   "cell_type": "code",
   "execution_count": null,
   "id": "5292c1f1-f03d-49f4-a3a2-414933aa970e",
   "metadata": {},
   "outputs": [],
   "source": []
  }
 ],
 "metadata": {
  "kernelspec": {
   "display_name": "Python 3 (ipykernel)",
   "language": "python",
   "name": "python3"
  },
  "language_info": {
   "codemirror_mode": {
    "name": "ipython",
    "version": 3
   },
   "file_extension": ".py",
   "mimetype": "text/x-python",
   "name": "python",
   "nbconvert_exporter": "python",
   "pygments_lexer": "ipython3",
   "version": "3.11.7"
  }
 },
 "nbformat": 4,
 "nbformat_minor": 5
}
