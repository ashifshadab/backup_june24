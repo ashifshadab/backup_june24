{
 "cells": [
  {
   "cell_type": "markdown",
   "id": "4ce548cf-42ef-408e-87fd-bc6d2eff9f50",
   "metadata": {},
   "source": [
    "# Implicit typecasting"
   ]
  },
  {
   "cell_type": "code",
   "execution_count": 1,
   "id": "5597c113-8f46-4f14-9d76-01d0dfeaca91",
   "metadata": {},
   "outputs": [
    {
     "name": "stdout",
     "output_type": "stream",
     "text": [
      "8.14\n"
     ]
    }
   ],
   "source": [
    "# Implicit typecasting from int to float\n",
    "integer_number = 5\n",
    "float_number = 3.14\n",
    "result = integer_number + float_number\n",
    "print(result)\n",
    "# The integer is implicitly converted to a float before the addition.\n"
   ]
  },
  {
   "cell_type": "code",
   "execution_count": 3,
   "id": "ff14616c-89e3-41f1-88cd-5923d9b9690c",
   "metadata": {},
   "outputs": [
    {
     "ename": "TypeError",
     "evalue": "unsupported operand type(s) for +: 'int' and 'str'",
     "output_type": "error",
     "traceback": [
      "\u001b[0;31m---------------------------------------------------------------------------\u001b[0m",
      "\u001b[0;31mTypeError\u001b[0m                                 Traceback (most recent call last)",
      "Cell \u001b[0;32mIn[3], line 4\u001b[0m\n\u001b[1;32m      2\u001b[0m integer_number \u001b[38;5;241m=\u001b[39m \u001b[38;5;241m10\u001b[39m\n\u001b[1;32m      3\u001b[0m string_number \u001b[38;5;241m=\u001b[39m \u001b[38;5;124m\"\u001b[39m\u001b[38;5;124m5\u001b[39m\u001b[38;5;124m\"\u001b[39m\n\u001b[0;32m----> 4\u001b[0m result \u001b[38;5;241m=\u001b[39m integer_number \u001b[38;5;241m+\u001b[39m string_number\n\u001b[1;32m      5\u001b[0m \u001b[38;5;28mprint\u001b[39m(result)\n",
      "\u001b[0;31mTypeError\u001b[0m: unsupported operand type(s) for +: 'int' and 'str'"
     ]
    }
   ],
   "source": [
    "# Implicit typecasting from int to string\n",
    "integer_number = 10\n",
    "string_number = \"5\"\n",
    "result = integer_number + string_number\n",
    "print(result)  # Output: TypeError (unsupported operand type(s) for +)\n"
   ]
  },
  {
   "cell_type": "markdown",
   "id": "2b13d118-f1d2-4042-abc9-4d20ce8c3fb8",
   "metadata": {},
   "source": [
    "# Explicit Typecasting\n",
    "Explicit type conversion, also known as typecasting, is a process in which a programmer manually converts the data type of an object to the desired data type. In Python, built-in functions such as int(), float(), str(), etc., are used to perform explicit type conversion.\n",
    "\n",
    "1. Int():\n",
    "Python Int() function take float or string as an argument and returns int type object.\n",
    "\n",
    "2. float():\n",
    "Python float() function take int or string as an argument and return float type object.\n",
    "\n",
    "3. str():\n",
    "Python str() function takes float or int as an argument and returns string type object."
   ]
  },
  {
   "cell_type": "code",
   "execution_count": 7,
   "id": "5c92015f-9f3c-48ec-9640-5d5d4c872efe",
   "metadata": {},
   "outputs": [
    {
     "name": "stdout",
     "output_type": "stream",
     "text": [
      "41.0\n",
      "<class 'float'>\n",
      "7\n",
      "<class 'int'>\n",
      "123\n",
      "<class 'str'>\n",
      "456Now i am happy\n"
     ]
    }
   ],
   "source": [
    "# Converting int to float\n",
    "integer_number = 41\n",
    "float_number = float(integer_number)\n",
    "print(float_number)\n",
    "print(type(float_number))\n",
    "\n",
    "# Converting float to int\n",
    "float_value = 7.12\n",
    "int_value = int(float_value)\n",
    "print(int_value)\n",
    "print(type(int_value))\n",
    "\n",
    "# Converting int to str\n",
    "integer_value = 123\n",
    "str_value = str(integer_value)\n",
    "print(str_value)\n",
    "print(type(str_value))\n",
    "\n",
    "print(str(456)+\"Now i am happy\")"
   ]
  },
  {
   "cell_type": "code",
   "execution_count": null,
   "id": "90d47ec8-a339-4442-a616-79099154229a",
   "metadata": {},
   "outputs": [],
   "source": [
    "# Typecasting in Collections:\n",
    "1. List typecasting\n",
    "2. Set typecasting\n",
    "3. Tuple typecasting"
   ]
  },
  {
   "cell_type": "code",
   "execution_count": 9,
   "id": "35d934df-f41e-4d58-bfc4-2e3c82ea922b",
   "metadata": {},
   "outputs": [
    {
     "name": "stdout",
     "output_type": "stream",
     "text": [
      "[1, 2, 3]\n",
      "{1, 2, 3}\n"
     ]
    }
   ],
   "source": [
    "# Converting a tuple to a list\n",
    "tuple_data = (1, 2, 3)\n",
    "list_data = list(tuple_data)\n",
    "print(list_data)\n",
    "\n",
    "# Converting a list to a set\n",
    "list_data = [1, 2, 3]\n",
    "set_data = set(list_data)\n",
    "print(set_data)\n"
   ]
  },
  {
   "cell_type": "code",
   "execution_count": null,
   "id": "8af66534-8a42-47d2-9413-6bc651888aec",
   "metadata": {},
   "outputs": [],
   "source": []
  }
 ],
 "metadata": {
  "kernelspec": {
   "display_name": "Python 3 (ipykernel)",
   "language": "python",
   "name": "python3"
  },
  "language_info": {
   "codemirror_mode": {
    "name": "ipython",
    "version": 3
   },
   "file_extension": ".py",
   "mimetype": "text/x-python",
   "name": "python",
   "nbconvert_exporter": "python",
   "pygments_lexer": "ipython3",
   "version": "3.11.7"
  }
 },
 "nbformat": 4,
 "nbformat_minor": 5
}
