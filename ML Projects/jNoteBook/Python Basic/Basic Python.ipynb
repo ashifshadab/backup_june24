{
 "cells": [
  {
   "cell_type": "code",
   "execution_count": 1,
   "id": "5f190fd9-671b-4013-9d06-8afe33fe9958",
   "metadata": {},
   "outputs": [
    {
     "name": "stdout",
     "output_type": "stream",
     "text": [
      "x is greater than 5\n",
      "Outside if condition\n"
     ]
    }
   ],
   "source": [
    "# if Statements\n",
    "x = 6\n",
    "if x > 5:\n",
    "    print(\"x is greater than 5\")\n",
    "print(\"Outside if condition\")\n"
   ]
  },
  {
   "cell_type": "code",
   "execution_count": 5,
   "id": "cadb68f2-964a-4dcd-b770-c3d8ea298f0e",
   "metadata": {},
   "outputs": [
    {
     "name": "stdout",
     "output_type": "stream",
     "text": [
      "i is greater than 25, this is else Block\n",
      "out of if and else Block\n",
      "True\n"
     ]
    }
   ],
   "source": [
    "# if else Statemnts\n",
    "i = 31\n",
    "if (i < 25):\n",
    "\tprint(\"i is smaller than 25 , this is if Block\")\n",
    "else:\n",
    "\tprint(\"i is greater than 25, this is else Block\")\n",
    "print(\"out of if and else Block\")\n",
    "\n",
    "i = 10\n",
    "print(True) if i < 15 else print(False)\n",
    "\n"
   ]
  },
  {
   "cell_type": "code",
   "execution_count": 7,
   "id": "18a8b225-1ea7-4f8d-808e-229376fb6a5d",
   "metadata": {},
   "outputs": [
    {
     "name": "stdout",
     "output_type": "stream",
     "text": [
      "x is zero\n"
     ]
    }
   ],
   "source": [
    "# The elif statement\n",
    "x = 0\n",
    "\n",
    "if x > 0:\n",
    "    print(\"x is positive\")\n",
    "elif x < 0:\n",
    "    print(\"x is negative\")\n",
    "else:\n",
    "    print(\"x is zero\")\n"
   ]
  },
  {
   "cell_type": "code",
   "execution_count": 9,
   "id": "f6d3ae61-94ce-4ed3-98bc-37d9a836ac9a",
   "metadata": {},
   "outputs": [
    {
     "name": "stdout",
     "output_type": "stream",
     "text": [
      "The number is positive and less than 10.\n"
     ]
    }
   ],
   "source": [
    "# Nested If\n",
    "num = 4\n",
    "if num > 0:\n",
    "    if num < 10:\n",
    "    \tprint(\"The number is positive and less than 10.\")\n",
    "else:\n",
    "    print(\"The number is less than or equal to 0\")\n"
   ]
  },
  {
   "cell_type": "code",
   "execution_count": 11,
   "id": "34e7a90b-db99-40a5-b4ab-75ce4cbbc76b",
   "metadata": {},
   "outputs": [
    {
     "name": "stdin",
     "output_type": "stream",
     "text": [
      "Enter a year:  2024\n"
     ]
    },
    {
     "name": "stdout",
     "output_type": "stream",
     "text": [
      "2024 is a leap year.\n"
     ]
    }
   ],
   "source": [
    "# Leap Year\n",
    "# Approach 1 using if-else statement\n",
    "year = int(input(\"Enter a year: \"))\n",
    "\n",
    "# Check if it's a leap year\n",
    "if (year % 4 == 0 and year % 100 != 0) or (year % 400 == 0):\n",
    "    print(f\"{year} is a leap year.\")\n",
    "else:\n",
    "    print(f\"{year} is not a leap year.\")\n"
   ]
  },
  {
   "cell_type": "code",
   "execution_count": 13,
   "id": "2e663916-020d-4671-a35e-0cb5796c1c36",
   "metadata": {},
   "outputs": [
    {
     "name": "stdin",
     "output_type": "stream",
     "text": [
      "Enter a year:  2025\n"
     ]
    },
    {
     "name": "stdout",
     "output_type": "stream",
     "text": [
      "2025 is not a leap year.\n"
     ]
    }
   ],
   "source": [
    "# Leap Year\n",
    "\n",
    "#Approach 2 using nested if statements\n",
    "year = int(input(\"Enter a year: \"))\n",
    "\n",
    "# Check if it's a leap year\n",
    "if year % 4 == 0:\n",
    "    if year % 100 != 0:\n",
    "        print(f\"{year} is a leap year.\")\n",
    "    else:\n",
    "        if year % 400 == 0:\n",
    "            print(f\"{year} is a leap year.\")\n",
    "        else:\n",
    "            print(f\"{year} is not a leap year.\")\n",
    "else:\n",
    "    print(f\"{year} is not a leap year.\")\n"
   ]
  },
  {
   "cell_type": "code",
   "execution_count": 15,
   "id": "d90682a6-7a0b-4864-b380-c43c5566839b",
   "metadata": {},
   "outputs": [
    {
     "name": "stdout",
     "output_type": "stream",
     "text": [
      "Data\n",
      "Science\n",
      "Python\n"
     ]
    }
   ],
   "source": [
    "l = [\"Data\", \"Science\", \"Python\"]\n",
    "for i in l:\n",
    "\tprint(i)\n"
   ]
  },
  {
   "cell_type": "code",
   "execution_count": 17,
   "id": "0292da4f-b2a8-406b-8aa1-dfbd93e50e8d",
   "metadata": {},
   "outputs": [
    {
     "name": "stdout",
     "output_type": "stream",
     "text": [
      "Dictionary Iteration\n",
      "key1 Ashif\n",
      "key2 345\n"
     ]
    }
   ],
   "source": [
    "print(\"Dictionary Iteration\")\n",
    "d = dict()\n",
    "\n",
    "d['key1'] = \"Ashif\"\n",
    "d['key2'] = 345\n",
    "for i in d:\n",
    "\tprint(i, d[i])\n"
   ]
  },
  {
   "cell_type": "code",
   "execution_count": 21,
   "id": "1c8c73f2-5fe2-4e14-baa4-5daaf637277a",
   "metadata": {},
   "outputs": [
    {
     "name": "stdout",
     "output_type": "stream",
     "text": [
      "P\n",
      "y\n",
      "t\n",
      "h\n",
      "o\n",
      "n\n"
     ]
    }
   ],
   "source": [
    "word = \"Python\"\n",
    "\n",
    "for i in word:\n",
    "    print(i)\n"
   ]
  },
  {
   "cell_type": "code",
   "execution_count": 29,
   "id": "cfc752c2-f0f4-4516-842f-53ca523bd92c",
   "metadata": {},
   "outputs": [
    {
     "name": "stdout",
     "output_type": "stream",
     "text": [
      "0 1 2 3 4 "
     ]
    }
   ],
   "source": [
    "# For loop with range\n",
    "# The range() function is often used with for loops to generate a sequence of numbers:\n",
    "for i in range(5):\n",
    "    print(i,end=' ')"
   ]
  },
  {
   "cell_type": "code",
   "execution_count": 31,
   "id": "f553a5b0-7385-4980-86f2-c13436e7335e",
   "metadata": {},
   "outputs": [
    {
     "name": "stdout",
     "output_type": "stream",
     "text": [
      "(0, 0)\n",
      "(0, 1)\n",
      "(1, 0)\n",
      "(1, 1)\n",
      "(2, 0)\n",
      "(2, 1)\n"
     ]
    }
   ],
   "source": [
    "for i in range(3):\n",
    "    for j in range(2):\n",
    "        print(f\"({i}, {j})\")"
   ]
  },
  {
   "cell_type": "code",
   "execution_count": 33,
   "id": "c99cf456-4e8b-406b-9d0e-61bbf32a756c",
   "metadata": {},
   "outputs": [
    {
     "name": "stdout",
     "output_type": "stream",
     "text": [
      "Index: 0, Subj: Data-Science\n",
      "Index: 1, Subj: Power BI\n",
      "Index: 2, Subj: Python\n"
     ]
    }
   ],
   "source": [
    "# Enumerate using For loop\n",
    "# The enumerate() function is handy for obtaining both the index and value during iteration:\n",
    "\n",
    "list1 = [\"Data-Science\", \"Power BI\", \"Python\"]\n",
    "\n",
    "for index, subject in enumerate(list1):\n",
    "    print(f\"Index: {index}, Subj: {subject}\")\n",
    "\n",
    "\n"
   ]
  },
  {
   "cell_type": "code",
   "execution_count": 41,
   "id": "9dac4c4c-a58f-4504-8253-0171c031f8b5",
   "metadata": {},
   "outputs": [
    {
     "name": "stdout",
     "output_type": "stream",
     "text": [
      "[0, 1, 4, 9, 16]\n",
      "25\n"
     ]
    }
   ],
   "source": [
    "# List Comprehensions:\n",
    "# List comprehensions provide a concise way to create lists using for loops:\n",
    "squares = [x**2 for x in range(5)]\n",
    "print(squares)\n",
    "\n",
    "# x**2 is square root\n"
   ]
  },
  {
   "cell_type": "code",
   "execution_count": 45,
   "id": "700d4988-37d1-407a-bbe4-0c1571e2631f",
   "metadata": {},
   "outputs": [
    {
     "name": "stdin",
     "output_type": "stream",
     "text": [
      "Enter a number:  153\n"
     ]
    },
    {
     "name": "stdout",
     "output_type": "stream",
     "text": [
      "153 is an Armstrong number.\n"
     ]
    }
   ],
   "source": [
    "# Write a program checking whether a number is an Armstrong number. \n",
    "# An Armstrong number (also known as a narcissistic number, \n",
    "# pluperfect digital invariant, or pluperfect number) is a number \n",
    "# that is the sum of its own digits each raised to the power of the number of digits.\n",
    "\n",
    "def is_armstrong_number(number):\n",
    "    num_str = str(number)\n",
    "    num_digits = len(num_str)\n",
    "    sum_of_digits = sum(int(digit) ** num_digits for digit in num_str)\n",
    "    return sum_of_digits == number\n",
    "\n",
    "# User input\n",
    "num = int(input(\"Enter a number: \"))\n",
    "\n",
    "# Check and display the result\n",
    "if is_armstrong_number(num):\n",
    "    print(f\"{num} is an Armstrong number.\")\n",
    "else:\n",
    "    print(f\"{num} is not an Armstrong number.\")\n"
   ]
  },
  {
   "cell_type": "code",
   "execution_count": 47,
   "id": "b8183654-c523-409b-a94e-58633e01e378",
   "metadata": {},
   "outputs": [
    {
     "name": "stdout",
     "output_type": "stream",
     "text": [
      "2 4 "
     ]
    }
   ],
   "source": [
    "counter= 2\n",
    "while counter <= 5:\n",
    "    print(counter, end=' ')\n",
    "    counter += 2\n"
   ]
  },
  {
   "cell_type": "code",
   "execution_count": 49,
   "id": "6787661c-b1f5-470e-bab8-1edb8ffd3d85",
   "metadata": {},
   "outputs": [
    {
     "name": "stdout",
     "output_type": "stream",
     "text": [
      "(1, 1) (1, 2) (2, 1) (2, 2) (3, 1) (3, 2) "
     ]
    }
   ],
   "source": [
    "outer_counter = 1\n",
    "while outer_counter <= 3:\n",
    "    inner_counter = 1\n",
    "    while inner_counter <= 2:\n",
    "        print(f\"({outer_counter}, {inner_counter})\", end=' ')\n",
    "        inner_counter += 1\n",
    "    outer_counter += 1\n"
   ]
  },
  {
   "cell_type": "code",
   "execution_count": 51,
   "id": "42cc2ad7-281b-4172-8ad7-30c6138f8b46",
   "metadata": {},
   "outputs": [
    {
     "name": "stdout",
     "output_type": "stream",
     "text": [
      "1 2 4 5 "
     ]
    }
   ],
   "source": [
    "counter = 1\n",
    "while counter <= 5:\n",
    "    if counter == 3:\n",
    "        counter += 1\n",
    "        continue\n",
    "    print(counter, end=' ')\n",
    "    counter += 1\n"
   ]
  },
  {
   "cell_type": "code",
   "execution_count": 53,
   "id": "1244d83c-e749-4942-bc5a-8c0ea5f5fdc9",
   "metadata": {},
   "outputs": [
    {
     "name": "stdout",
     "output_type": "stream",
     "text": [
      "1 2 3 4 5 "
     ]
    }
   ],
   "source": [
    "counter = 1\n",
    "while counter <= 10:\n",
    "    print(counter,end=' ')\n",
    "    if counter == 5:\n",
    "        break\n",
    "    counter += 1\n"
   ]
  },
  {
   "cell_type": "code",
   "execution_count": 57,
   "id": "d88e8fd1-01f1-4379-84e6-0e4a68a6eee3",
   "metadata": {},
   "outputs": [
    {
     "ename": "KeyboardInterrupt",
     "evalue": "Interrupted by user",
     "output_type": "error",
     "traceback": [
      "\u001b[0;31m---------------------------------------------------------------------------\u001b[0m",
      "\u001b[0;31mKeyboardInterrupt\u001b[0m                         Traceback (most recent call last)",
      "Cell \u001b[0;32mIn[57], line 2\u001b[0m\n\u001b[1;32m      1\u001b[0m \u001b[38;5;28;01mwhile\u001b[39;00m \u001b[38;5;28;01mTrue\u001b[39;00m:\n\u001b[0;32m----> 2\u001b[0m     age \u001b[38;5;241m=\u001b[39m \u001b[38;5;28mint\u001b[39m(\u001b[38;5;28minput\u001b[39m(\u001b[38;5;124m\"\u001b[39m\u001b[38;5;124mEnter your age: \u001b[39m\u001b[38;5;124m\"\u001b[39m))\n\u001b[1;32m      3\u001b[0m     \u001b[38;5;28;01mif\u001b[39;00m age \u001b[38;5;241m>\u001b[39m\u001b[38;5;241m=\u001b[39m \u001b[38;5;241m0\u001b[39m:\n\u001b[1;32m      4\u001b[0m         \u001b[38;5;28;01mbreak\u001b[39;00m\n",
      "File \u001b[0;32m~/anaconda3/lib/python3.11/site-packages/ipykernel/kernelbase.py:1262\u001b[0m, in \u001b[0;36mKernel.raw_input\u001b[0;34m(self, prompt)\u001b[0m\n\u001b[1;32m   1260\u001b[0m     msg \u001b[38;5;241m=\u001b[39m \u001b[38;5;124m\"\u001b[39m\u001b[38;5;124mraw_input was called, but this frontend does not support input requests.\u001b[39m\u001b[38;5;124m\"\u001b[39m\n\u001b[1;32m   1261\u001b[0m     \u001b[38;5;28;01mraise\u001b[39;00m StdinNotImplementedError(msg)\n\u001b[0;32m-> 1262\u001b[0m \u001b[38;5;28;01mreturn\u001b[39;00m \u001b[38;5;28mself\u001b[39m\u001b[38;5;241m.\u001b[39m_input_request(\n\u001b[1;32m   1263\u001b[0m     \u001b[38;5;28mstr\u001b[39m(prompt),\n\u001b[1;32m   1264\u001b[0m     \u001b[38;5;28mself\u001b[39m\u001b[38;5;241m.\u001b[39m_parent_ident[\u001b[38;5;124m\"\u001b[39m\u001b[38;5;124mshell\u001b[39m\u001b[38;5;124m\"\u001b[39m],\n\u001b[1;32m   1265\u001b[0m     \u001b[38;5;28mself\u001b[39m\u001b[38;5;241m.\u001b[39mget_parent(\u001b[38;5;124m\"\u001b[39m\u001b[38;5;124mshell\u001b[39m\u001b[38;5;124m\"\u001b[39m),\n\u001b[1;32m   1266\u001b[0m     password\u001b[38;5;241m=\u001b[39m\u001b[38;5;28;01mFalse\u001b[39;00m,\n\u001b[1;32m   1267\u001b[0m )\n",
      "File \u001b[0;32m~/anaconda3/lib/python3.11/site-packages/ipykernel/kernelbase.py:1305\u001b[0m, in \u001b[0;36mKernel._input_request\u001b[0;34m(self, prompt, ident, parent, password)\u001b[0m\n\u001b[1;32m   1302\u001b[0m \u001b[38;5;28;01mexcept\u001b[39;00m \u001b[38;5;167;01mKeyboardInterrupt\u001b[39;00m:\n\u001b[1;32m   1303\u001b[0m     \u001b[38;5;66;03m# re-raise KeyboardInterrupt, to truncate traceback\u001b[39;00m\n\u001b[1;32m   1304\u001b[0m     msg \u001b[38;5;241m=\u001b[39m \u001b[38;5;124m\"\u001b[39m\u001b[38;5;124mInterrupted by user\u001b[39m\u001b[38;5;124m\"\u001b[39m\n\u001b[0;32m-> 1305\u001b[0m     \u001b[38;5;28;01mraise\u001b[39;00m \u001b[38;5;167;01mKeyboardInterrupt\u001b[39;00m(msg) \u001b[38;5;28;01mfrom\u001b[39;00m \u001b[38;5;28;01mNone\u001b[39;00m\n\u001b[1;32m   1306\u001b[0m \u001b[38;5;28;01mexcept\u001b[39;00m \u001b[38;5;167;01mException\u001b[39;00m:\n\u001b[1;32m   1307\u001b[0m     \u001b[38;5;28mself\u001b[39m\u001b[38;5;241m.\u001b[39mlog\u001b[38;5;241m.\u001b[39mwarning(\u001b[38;5;124m\"\u001b[39m\u001b[38;5;124mInvalid Message:\u001b[39m\u001b[38;5;124m\"\u001b[39m, exc_info\u001b[38;5;241m=\u001b[39m\u001b[38;5;28;01mTrue\u001b[39;00m)\n",
      "\u001b[0;31mKeyboardInterrupt\u001b[0m: Interrupted by user"
     ]
    },
    {
     "name": "stdin",
     "output_type": "stream",
     "text": [
      "Enter your age:  1\n"
     ]
    }
   ],
   "source": [
    "while True:\n",
    "    age = int(input(\"Enter your age: \"))\n",
    "    if age >= 0:\n",
    "        break\n",
    "    else:\n",
    "        print(\"Please enter a valid age.\")\n"
   ]
  },
  {
   "cell_type": "code",
   "execution_count": 59,
   "id": "cc55fa98-5d35-4391-b9e0-2d7b0611c7b9",
   "metadata": {},
   "outputs": [
    {
     "name": "stdin",
     "output_type": "stream",
     "text": [
      "Continue playing? (yes/no):  2\n",
      "Continue playing? (yes/no):  no\n"
     ]
    }
   ],
   "source": [
    "game_over = False\n",
    "while not game_over:\n",
    "    # Game logic here\n",
    "    user_input = input(\"Continue playing? (yes/no): \")\n",
    "    if user_input.lower() == \"no\":\n",
    "        game_over = True\n"
   ]
  },
  {
   "cell_type": "code",
   "execution_count": 61,
   "id": "c1449579-fbc9-4858-aaa1-55b242b6528a",
   "metadata": {},
   "outputs": [
    {
     "name": "stdin",
     "output_type": "stream",
     "text": [
      "Enter a positive number (enter a non-positive number to stop):  2\n",
      "Enter a positive number (enter a non-positive number to stop):  4\n",
      "Enter a positive number (enter a non-positive number to stop):  1\n",
      "Enter a positive number (enter a non-positive number to stop):  3\n",
      "Enter a positive number (enter a non-positive number to stop):  -1\n"
     ]
    },
    {
     "name": "stdout",
     "output_type": "stream",
     "text": [
      "You entered the following positive numbers: [2.0, 4.0, 1.0, 3.0]\n"
     ]
    }
   ],
   "source": [
    "'''Create a Python program that prompts the user to enter positive numbers continuously. \n",
    "The program should use a while loop to collect input data until the user enters a non-positive number. \n",
    "Implement simple data validation to ensure entered values are valid positive numbers. \n",
    "Finally, output the list of positive numbers entered by the user. \n",
    "The objective is to create an interactive and error-tolerant program for collecting and handling user input.'''\n",
    "numbers = []\n",
    "\n",
    "while True:\n",
    "    user_input = input(\"Enter a positive number (enter a non-positive number to stop): \")\n",
    "\n",
    "    # Check if the input can be converted to a float and is non-negative\n",
    "    if user_input.replace('.', '', 1).isdigit() and float(user_input) > 0:\n",
    "        numbers.append(float(user_input))\n",
    "    elif user_input.replace('-', '', 1).isdigit() and float(user_input) <= 0:\n",
    "        break  # Exit the loop if a non-positive number is entered\n",
    "    else:\n",
    "        print(\"Invalid input. Please enter a valid positive number.\")\n",
    "\n",
    "# Data handling after the loop\n",
    "if numbers:\n",
    "    print(f\"You entered the following positive numbers: {numbers}\")\n",
    "else:\n",
    "    print(\"No positive numbers were entered.\")\n"
   ]
  },
  {
   "cell_type": "code",
   "execution_count": null,
   "id": "ccf81ec8-a389-417b-bccf-7f041836e80c",
   "metadata": {},
   "outputs": [],
   "source": []
  }
 ],
 "metadata": {
  "kernelspec": {
   "display_name": "Python 3 (ipykernel)",
   "language": "python",
   "name": "python3"
  },
  "language_info": {
   "codemirror_mode": {
    "name": "ipython",
    "version": 3
   },
   "file_extension": ".py",
   "mimetype": "text/x-python",
   "name": "python",
   "nbconvert_exporter": "python",
   "pygments_lexer": "ipython3",
   "version": "3.11.7"
  }
 },
 "nbformat": 4,
 "nbformat_minor": 5
}
