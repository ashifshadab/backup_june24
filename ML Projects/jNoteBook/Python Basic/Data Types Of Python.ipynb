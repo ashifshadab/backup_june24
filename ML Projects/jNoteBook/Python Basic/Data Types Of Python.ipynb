{
 "cells": [
  {
   "cell_type": "markdown",
   "id": "7c679119-4af1-4b53-83fe-a9e779f41b81",
   "metadata": {},
   "source": [
    "# Data Types\n",
    "1. Numeric\n",
    "   - Integers\n",
    "   - Complex Numbers\n",
    "   - Float\n",
    "\n",
    "2. Set\n",
    "3. Boolean\n",
    "4. Sequence Type\n",
    "   - List\n",
    "   - Strings\n",
    "   - Tuples\n",
    "5. Dictionary\n"
   ]
  },
  {
   "cell_type": "markdown",
   "id": "f68e92d5-c531-48f9-af98-ce27e30692c1",
   "metadata": {},
   "source": [
    "## Integers\n",
    "Integers represent whole numbers without any decimal point. It can be both positive and negative numbers ranging [-inf,..,0,....+inf]"
   ]
  },
  {
   "cell_type": "code",
   "execution_count": 5,
   "id": "34d0422b-0aa0-4b81-82f9-1e21dafaa388",
   "metadata": {},
   "outputs": [
    {
     "name": "stdout",
     "output_type": "stream",
     "text": [
      "5\n",
      "-324\n",
      "0\n",
      "Type of a:  <class 'int'>\n",
      "Type of b:  <class 'int'>\n",
      "Type of c:  <class 'int'>\n"
     ]
    }
   ],
   "source": [
    "a = 5\n",
    "b = -324\n",
    "c = 0\n",
    "print(a)\n",
    "print(b)\n",
    "print(c)\n",
    "print(\"Type of a: \", type(a))\n",
    "print(\"Type of b: \", type(b))\n",
    "print(\"Type of c: \", type(c))"
   ]
  },
  {
   "cell_type": "markdown",
   "id": "07b63f75-f8dc-4638-adfb-00336ff15820",
   "metadata": {},
   "source": [
    "## Float\n",
    "Float type represent real numbers and can have decimal points."
   ]
  },
  {
   "cell_type": "code",
   "execution_count": 7,
   "id": "9d68c870-3518-4dde-b34d-00a7571a1255",
   "metadata": {},
   "outputs": [
    {
     "name": "stdout",
     "output_type": "stream",
     "text": [
      "Type of a:  <class 'float'>\n",
      "Type of b:  <class 'float'>\n",
      "5.0\n",
      "-456.54\n"
     ]
    }
   ],
   "source": [
    "a = 5.0\n",
    "b = -456.54\n",
    "print(\"Type of a: \", type(a))\n",
    "print(\"Type of b: \", type(b))\n",
    "print(a)\n",
    "print(b)"
   ]
  },
  {
   "cell_type": "markdown",
   "id": "7cd2c2ca-722c-4880-be8c-1994ea0919d5",
   "metadata": {},
   "source": [
    "## Complex Numbers\n",
    "Complex numbers have a real and an imaginary part. It is specified as (real part) + (imaginary part)j."
   ]
  },
  {
   "cell_type": "code",
   "execution_count": 9,
   "id": "fce4a740-9c9a-4546-92d7-70bb69ab1893",
   "metadata": {},
   "outputs": [
    {
     "name": "stdout",
     "output_type": "stream",
     "text": [
      "Type of a:  <class 'complex'>\n",
      "Type of b:  <class 'complex'>\n",
      "(2+4j)\n",
      "(3-5j)\n"
     ]
    }
   ],
   "source": [
    "a = 2 + 4j\n",
    "b = 3 - 5j \n",
    "print(\"Type of a: \", type(a))\n",
    "print(\"Type of b: \", type(b))\n",
    "print(a)\n",
    "print(b)"
   ]
  },
  {
   "cell_type": "markdown",
   "id": "339ad218-fb7f-492b-b871-d0e2c9070cda",
   "metadata": {},
   "source": [
    "## Strings :\n",
    "A string is a collection of one or more characters put in a single quote, double-quote, or triple-quote. In python there is no character data type, a character is a string of length one.\n",
    "\n",
    "Example: s='gfg', s=\"Geeks\", s='''Python''', s='a', s='1.0', s=\"\"\n",
    "\n",
    "If you need to include quotes within the string, you can use the opposite type of quote for enclosing the string. This technique ensures that the quotes inside the string are treated as literal characters and not as the string delimiters."
   ]
  },
  {
   "cell_type": "code",
   "execution_count": 11,
   "id": "f9505c37-694e-4f05-8b65-0e3d1eaa4521",
   "metadata": {},
   "outputs": [
    {
     "name": "stdout",
     "output_type": "stream",
     "text": [
      "String with the use of Single Quotes:  Geeks\n",
      "String with the use of Double Quotes including single quotes:  I'm a Geek <class 'str'>\n",
      "String with the use of Triple Quotes:  I'm a Geek and I live in a world of \"Geeks\" <class 'str'>\n",
      "Creating a multiline String:  Geeks \n",
      "\t\t\tFor \n",
      "\t\t\tLife\n"
     ]
    }
   ],
   "source": [
    "String1 = 'Geeks'\n",
    "print(\"String with the use of Single Quotes: \", String1)\n",
    "String2 = \"I'm a Geek\"\n",
    "print(\"String with the use of Double Quotes including single quotes: \", String2, type(String2))\n",
    "String3 = '''I'm a Geek and I live in a world of \"Geeks\"'''\n",
    "print(\"String with the use of Triple Quotes: \", String3, type(String3))\n",
    "String4 = '''Geeks \n",
    "\t\t\tFor \n",
    "\t\t\tLife'''\n",
    "print(\"Creating a multiline String: \", String4)"
   ]
  },
  {
   "cell_type": "markdown",
   "id": "ebb188cd-3a3d-4ecf-975a-8a6a03b0d8ec",
   "metadata": {},
   "source": [
    "## Lists :\n",
    "Lists is a collection of ordered and mutable elements. To declare a empty list we have to define var=[]."
   ]
  },
  {
   "cell_type": "code",
   "execution_count": 13,
   "id": "ce551886-bf86-4bb3-ab5d-c3747476e331",
   "metadata": {},
   "outputs": [
    {
     "name": "stdout",
     "output_type": "stream",
     "text": [
      "<class 'list'>\n",
      "<class 'list'>\n"
     ]
    }
   ],
   "source": [
    "lst1=[] #empty list\n",
    "print(type(lst1))\n",
    "lst2=[1.0, 2, 'GFG', \"Geeks\"]\n",
    "print(type(lst1))  "
   ]
  },
  {
   "cell_type": "markdown",
   "id": "af1c6db2-e2b5-47f6-a216-527326d0c5dd",
   "metadata": {},
   "source": [
    "## Tuples :\n",
    "Tuples is a collection of ordered and immutable elements"
   ]
  },
  {
   "cell_type": "code",
   "execution_count": 15,
   "id": "9f78ca0d-b4a5-499b-8055-4e47458ca65b",
   "metadata": {},
   "outputs": [
    {
     "name": "stdout",
     "output_type": "stream",
     "text": [
      "<class 'tuple'>\n",
      "<class 'tuple'>\n"
     ]
    }
   ],
   "source": [
    "tup1=('x', 'y')\n",
    "tup2=(1, 'hi', 3.0)\n",
    "print(type(tup1))\n",
    "print(type(tup2))"
   ]
  },
  {
   "cell_type": "markdown",
   "id": "71928333-c817-4e4b-a6ce-4a64565e48d5",
   "metadata": {},
   "source": [
    "## Boolean\n",
    "The boolean data type represents truth values either True or False."
   ]
  },
  {
   "cell_type": "code",
   "execution_count": 17,
   "id": "79e3b2e4-4ec1-4135-b24c-c2154dd82825",
   "metadata": {},
   "outputs": [
    {
     "name": "stdout",
     "output_type": "stream",
     "text": [
      "<class 'bool'>\n"
     ]
    }
   ],
   "source": [
    "selected = True\n",
    "print(type(selected))"
   ]
  },
  {
   "cell_type": "markdown",
   "id": "ef96d432-9182-4cae-a368-70162d276e93",
   "metadata": {},
   "source": [
    "## Set\n",
    "Set is an unordered collection of data types that is iterable, mutable and has no duplicate elements. The order of elements in a set is undefined though it may consist of various elements."
   ]
  },
  {
   "cell_type": "code",
   "execution_count": 19,
   "id": "78788896-1662-477c-9cbc-f35d28daf1df",
   "metadata": {},
   "outputs": [
    {
     "name": "stdout",
     "output_type": "stream",
     "text": [
      "<class 'set'>\n"
     ]
    }
   ],
   "source": [
    "c = set()\n",
    "c = {1, 4, 5, \"Geeks\", 6.0}\n",
    "print(type(c))"
   ]
  },
  {
   "cell_type": "markdown",
   "id": "5a59797b-544c-43b1-b347-ffed25108049",
   "metadata": {},
   "source": [
    "## Dictionary\n",
    "A dictionary in Python is an unordered collection of data values in form of key-value pairs. Key-value is provided in the dictionary to make it more optimized. Each key-value pair in a Dictionary is separated by a colon : , whereas each key is separated by a ‘comma’."
   ]
  },
  {
   "cell_type": "code",
   "execution_count": 21,
   "id": "c0c596b9-b8cc-4a44-b372-0fbcd731b46e",
   "metadata": {},
   "outputs": [
    {
     "name": "stdout",
     "output_type": "stream",
     "text": [
      "Empty Dictionary:  {} <class 'dict'>\n",
      "Dictionary with the use of Integer Keys:  {1: 'Geeks', 2: 'For', 3: 'Geeks'} <class 'dict'>\n",
      "Dictionary with the use of Mixed Keys:  {'Name': 'Geeks', 1: [1, 2, 3, 4]} <class 'dict'>\n",
      "Dictionary with each item as a pair:  {1: 'Geeks', 2: 'For'} <class 'dict'>\n"
     ]
    }
   ],
   "source": [
    "Dict1 = {} \n",
    "print(\"Empty Dictionary: \", Dict1, type(Dict1))\n",
    "Dict2 = {1: 'Geeks', 2: 'For', 3: 'Geeks'}\n",
    "print(\"Dictionary with the use of Integer Keys: \", Dict2, type(Dict2))\n",
    "Dict3 = {'Name': 'Geeks', 1: [1, 2, 3, 4]}\n",
    "print(\"Dictionary with the use of Mixed Keys: \", Dict3, type(Dict3))\n",
    "Dict4 = dict([(1, 'Geeks'), (2, 'For')])\n",
    "print(\"Dictionary with each item as a pair: \", Dict4, type(Dict4))"
   ]
  },
  {
   "cell_type": "code",
   "execution_count": null,
   "id": "54e38fb3-0d0e-46c7-9126-8475d58716da",
   "metadata": {},
   "outputs": [],
   "source": []
  }
 ],
 "metadata": {
  "kernelspec": {
   "display_name": "Python 3 (ipykernel)",
   "language": "python",
   "name": "python3"
  },
  "language_info": {
   "codemirror_mode": {
    "name": "ipython",
    "version": 3
   },
   "file_extension": ".py",
   "mimetype": "text/x-python",
   "name": "python",
   "nbconvert_exporter": "python",
   "pygments_lexer": "ipython3",
   "version": "3.11.7"
  }
 },
 "nbformat": 4,
 "nbformat_minor": 5
}
